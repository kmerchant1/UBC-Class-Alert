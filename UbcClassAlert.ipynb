{
 "cells": [
  {
   "cell_type": "markdown",
   "id": "750bb442-b0dc-481d-9815-bbb2f53ef1cc",
   "metadata": {},
   "source": [
    "#### **UBC Class Alert for COSC 322, 320 and DATA 310, 311, 315**"
   ]
  },
  {
   "cell_type": "code",
   "execution_count": null,
   "id": "782b2074-e9a0-41ba-b493-799244ae26c3",
   "metadata": {},
   "outputs": [
    {
     "name": "stdout",
     "output_type": "stream",
     "text": [
      "Collecting selenium\n",
      "  Downloading selenium-4.10.0-py3-none-any.whl (6.7 MB)\n",
      "\u001b[2K     \u001b[90m━━━━━━━━━━━━━━━━━━━━━━━━━━━━━━━━━━━━━━━━\u001b[0m \u001b[32m6.7/6.7 MB\u001b[0m \u001b[31m22.0 MB/s\u001b[0m eta \u001b[36m0:00:00\u001b[0m00:01\u001b[0m00:01\u001b[0m\n",
      "\u001b[?25hRequirement already satisfied: urllib3[socks]<3,>=1.26 in /Users/kaidenmerchant/miniconda3/lib/python3.10/site-packages (from selenium) (1.26.14)\n",
      "Collecting trio~=0.17 (from selenium)\n",
      "  Downloading trio-0.22.1-py3-none-any.whl (399 kB)\n",
      "\u001b[2K     \u001b[90m━━━━━━━━━━━━━━━━━━━━━━━━━━━━━━━━━━━━━━\u001b[0m \u001b[32m399.3/399.3 kB\u001b[0m \u001b[31m13.1 MB/s\u001b[0m eta \u001b[36m0:00:00\u001b[0m\n",
      "\u001b[?25hCollecting trio-websocket~=0.9 (from selenium)\n",
      "  Downloading trio_websocket-0.10.3-py3-none-any.whl (17 kB)\n",
      "Requirement already satisfied: certifi>=2021.10.8 in /Users/kaidenmerchant/miniconda3/lib/python3.10/site-packages (from selenium) (2022.12.7)\n",
      "Requirement already satisfied: attrs>=20.1.0 in /Users/kaidenmerchant/miniconda3/lib/python3.10/site-packages (from trio~=0.17->selenium) (22.2.0)\n",
      "Collecting sortedcontainers (from trio~=0.17->selenium)\n",
      "  Downloading sortedcontainers-2.4.0-py2.py3-none-any.whl (29 kB)\n",
      "Requirement already satisfied: idna in /Users/kaidenmerchant/miniconda3/lib/python3.10/site-packages (from trio~=0.17->selenium) (3.4)\n",
      "Collecting outcome (from trio~=0.17->selenium)\n",
      "  Downloading outcome-1.2.0-py2.py3-none-any.whl (9.7 kB)\n",
      "Requirement already satisfied: sniffio in /Users/kaidenmerchant/miniconda3/lib/python3.10/site-packages (from trio~=0.17->selenium) (1.3.0)\n",
      "Collecting exceptiongroup>=1.0.0rc9 (from trio~=0.17->selenium)\n",
      "  Downloading exceptiongroup-1.1.2-py3-none-any.whl (14 kB)\n",
      "Collecting wsproto>=0.14 (from trio-websocket~=0.9->selenium)\n",
      "  Downloading wsproto-1.2.0-py3-none-any.whl (24 kB)\n",
      "Requirement already satisfied: PySocks!=1.5.7,<2.0,>=1.5.6 in /Users/kaidenmerchant/miniconda3/lib/python3.10/site-packages (from urllib3[socks]<3,>=1.26->selenium) (1.7.1)\n",
      "Collecting h11<1,>=0.9.0 (from wsproto>=0.14->trio-websocket~=0.9->selenium)\n",
      "  Downloading h11-0.14.0-py3-none-any.whl (58 kB)\n",
      "\u001b[2K     \u001b[90m━━━━━━━━━━━━━━━━━━━━━━━━━━━━━━━━━━━━━━━━\u001b[0m \u001b[32m58.3/58.3 kB\u001b[0m \u001b[31m2.4 MB/s\u001b[0m eta \u001b[36m0:00:00\u001b[0m\n",
      "\u001b[?25hInstalling collected packages: sortedcontainers, outcome, h11, exceptiongroup, wsproto, trio, trio-websocket, selenium\n",
      "Successfully installed exceptiongroup-1.1.2 h11-0.14.0 outcome-1.2.0 selenium-4.10.0 sortedcontainers-2.4.0 trio-0.22.1 trio-websocket-0.10.3 wsproto-1.2.0\n"
     ]
    }
   ],
   "source": [
    "# Install Dependencies: \n",
    "!pip install selenium\n"
   ]
  },
  {
   "cell_type": "code",
   "execution_count": null,
   "id": "07d4dc6d-f51d-4b50-82f3-fbd95d7cf550",
   "metadata": {},
   "outputs": [],
   "source": [
    "# Import dependencies\n",
    "from selenium import webdriver\n",
    "from selenium.webdriver.common.by import By\n",
    "import time"
   ]
  },
  {
   "cell_type": "code",
   "execution_count": null,
   "id": "94977147-c2ff-42a7-ae7b-a22df5afd62f",
   "metadata": {},
   "outputs": [],
   "source": [
    "# URL Links to the 5 classes  \n",
    "\n",
    "cosc320 = 'https://courses.students.ubc.ca/cs/courseschedule?pname=subjarea&tname=subj-section&dept=COSC&course=320&section=001'\n",
    "cosc322 = 'https://courses.students.ubc.ca/cs/courseschedule?pname=subjarea&tname=subj-section&dept=COSC&course=322&section=101'\n",
    "data310 = 'https://courses.students.ubc.ca/cs/courseschedule?pname=subjarea&tname=subj-section&dept=DATA&course=310&section=101'\n",
    "data311 = 'https://courses.students.ubc.ca/cs/courseschedule?pname=subjarea&tname=subj-section&dept=DATA&course=311&section=101'\n",
    "data315 = 'https://courses.students.ubc.ca/cs/courseschedule?pname=subjarea&tname=subj-section&dept=DATA&course=315&section=101'\n"
   ]
  },
  {
   "cell_type": "markdown",
   "id": "9b3beb8e-acac-4211-81ae-cdbb41702a28",
   "metadata": {},
   "source": [
    "##### 1. **Get Chrome driver and navigate to SSC**"
   ]
  },
  {
   "cell_type": "code",
   "execution_count": null,
   "id": "74fd8a11-5791-4595-aa9c-4defd9e70718",
   "metadata": {},
   "outputs": [],
   "source": [
    "driver = webdriver.Chrome()\n",
    "\n",
    "url = 'https://ssc.adm.ubc.ca/sscportal/servlets/SRVSSCFramework'\n",
    "\n",
    "driver.get(url)\n"
   ]
  },
  {
   "cell_type": "markdown",
   "id": "78cc7382-c5b4-4221-98bf-b2a2b38386a0",
   "metadata": {},
   "source": [
    "##### **2. Now, manually login and now we can navigate to the different classes and check for availability**"
   ]
  },
  {
   "cell_type": "markdown",
   "id": "427aada9-2f5e-45cf-83d0-072b2ef7a79c",
   "metadata": {},
   "source": [
    "###### **COSC 320**"
   ]
  },
  {
   "cell_type": "code",
   "execution_count": null,
   "id": "11be5c69-413d-476d-8fa6-e4fb8aff96fe",
   "metadata": {},
   "outputs": [],
   "source": [
    "driver.get(cosc320)"
   ]
  },
  {
   "cell_type": "code",
   "execution_count": null,
   "id": "85f237ed-cfad-48d7-9f6c-244cc77aca6a",
   "metadata": {},
   "outputs": [],
   "source": [
    "#Find element that displays the number of total seats remaining\n",
    "'''\n",
    "The reason we have to do this is because if there are no seats remaining\n",
    "there may be less tags (because it states class is full)\n",
    "'''\n",
    "\n",
    "total_tags = driver.find_elements(By.TAG_NAME, 'td')\n",
    "\n",
    "for i in range(len(total_tags)):\n",
    "    if total_tags[i].text == 'Total Seats Remaining:':\n",
    "        element = total_tags[i+1]\n",
    "        break\n",
    "if int(element.text) != 0:\n",
    "    print('SEND EMAIL TO ALERT THAT THERE IS AVAILABILITY')\n",
    "    "
   ]
  },
  {
   "cell_type": "code",
   "execution_count": null,
   "id": "7131969c-4d71-4411-ba1d-bc6256bd2fc4",
   "metadata": {},
   "outputs": [],
   "source": []
  }
 ],
 "metadata": {
  "kernelspec": {
   "display_name": "Python 3 (ipykernel)",
   "language": "python",
   "name": "python3"
  }
 },
 "nbformat": 4,
 "nbformat_minor": 5
}
