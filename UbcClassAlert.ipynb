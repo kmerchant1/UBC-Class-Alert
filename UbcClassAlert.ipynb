{
 "cells": [
  {
   "cell_type": "markdown",
   "id": "750bb442-b0dc-481d-9815-bbb2f53ef1cc",
   "metadata": {},
   "source": [
    "#### **UBC Class Alert for COSC 322, 320 and DATA 310, 311, 315**"
   ]
  },
  {
   "cell_type": "code",
   "execution_count": null,
   "id": "782b2074-e9a0-41ba-b493-799244ae26c3",
   "metadata": {},
   "outputs": [],
   "source": [
    "%%capture\n",
    "# Install Dependencies: \n",
    "!pip install selenium\n",
    "!pip install ipynb"
   ]
  },
  {
   "cell_type": "code",
   "execution_count": null,
   "id": "07d4dc6d-f51d-4b50-82f3-fbd95d7cf550",
   "metadata": {},
   "outputs": [],
   "source": [
    "# Import dependencies\n",
    "from selenium import webdriver\n",
    "from selenium.webdriver.common.by import By\n",
    "import time\n",
    "\n",
    "from ipynb.fs.full.send_message import send_alert"
   ]
  },
  {
   "cell_type": "code",
   "execution_count": null,
   "id": "94977147-c2ff-42a7-ae7b-a22df5afd62f",
   "metadata": {},
   "outputs": [],
   "source": [
    "# URL Links to the 5 classes  \n",
    "\n",
    "cosc320_url = 'https://courses.students.ubc.ca/cs/courseschedule?pname=subjarea&tname=subj-section&dept=COSC&course=320&section=001'\n",
    "cosc322_url = 'https://courses.students.ubc.ca/cs/courseschedule?pname=subjarea&tname=subj-section&dept=COSC&course=322&section=101'\n",
    "data310_url = 'https://courses.students.ubc.ca/cs/courseschedule?pname=subjarea&tname=subj-section&dept=DATA&course=310&section=101'\n",
    "data311_url = 'https://courses.students.ubc.ca/cs/courseschedule?pname=subjarea&tname=subj-section&dept=DATA&course=311&section=101'\n",
    "data315_url = 'https://courses.students.ubc.ca/cs/courseschedule?pname=subjarea&tname=subj-section&dept=DATA&course=315&section=101'\n"
   ]
  },
  {
   "cell_type": "markdown",
   "id": "9b3beb8e-acac-4211-81ae-cdbb41702a28",
   "metadata": {},
   "source": [
    "##### 1. **Get Chrome driver and navigate to SSC**"
   ]
  },
  {
   "cell_type": "code",
   "execution_count": null,
   "id": "74fd8a11-5791-4595-aa9c-4defd9e70718",
   "metadata": {},
   "outputs": [],
   "source": [
    "driver = webdriver.Chrome()\n",
    "\n",
    "url = 'https://courses.students.ubc.ca/cs/courseschedule?submit=Login&pname=timetable&tname=timetable&studentid=41529918'\n",
    "\n",
    "driver.get(url)\n"
   ]
  },
  {
   "cell_type": "markdown",
   "id": "78cc7382-c5b4-4221-98bf-b2a2b38386a0",
   "metadata": {},
   "source": [
    "##### **2. Now, manually login and now we can navigate to the different classes and check for availability**"
   ]
  },
  {
   "cell_type": "markdown",
   "id": "427aada9-2f5e-45cf-83d0-072b2ef7a79c",
   "metadata": {},
   "source": [
    "###### **COSC 320**"
   ]
  },
  {
   "cell_type": "code",
   "execution_count": null,
   "id": "85f237ed-cfad-48d7-9f6c-244cc77aca6a",
   "metadata": {},
   "outputs": [],
   "source": [
    "def cosc320():\n",
    "    driver.get(cosc320_url)\n",
    "    total_tags = driver.find_elements(By.TAG_NAME, 'td')\n",
    "    class_name = 'COSC 320'\n",
    "\n",
    "    for i in range(len(total_tags)):\n",
    "        if total_tags[i].text == 'Total Seats Remaining:':\n",
    "            element = total_tags[i+1]\n",
    "            break\n",
    "    if int(element.text) != 0:\n",
    "        send_alert(f'{class_name}', f'{class_name} has a seat remaining!', '9256997372@mms.att.net')\n"
   ]
  },
  {
   "cell_type": "markdown",
   "id": "2adb6330-4d84-4bf5-9ac6-be4906b22c43",
   "metadata": {},
   "source": [
    "###### **COSC 322**"
   ]
  },
  {
   "cell_type": "code",
   "execution_count": null,
   "id": "2b946c52-e224-46a4-8b2c-abf4dc7fc9be",
   "metadata": {},
   "outputs": [],
   "source": [
    "def cosc322():\n",
    "    driver.get(cosc322_url)\n",
    "    total_tags = driver.find_elements(By.TAG_NAME, 'td')\n",
    "    class_name = 'COSC 322'\n",
    "\n",
    "    for i in range(len(total_tags)):\n",
    "        if total_tags[i].text == 'Total Seats Remaining:':\n",
    "            element = total_tags[i+1]\n",
    "            break\n",
    "    if int(element.text) != 0:\n",
    "        send_alert(f'{class_name}', f'{class_name} has a seat remaining!', '9256997372@mms.att.net')\n",
    "        "
   ]
  },
  {
   "cell_type": "markdown",
   "id": "2bb4c927-f836-4300-869b-d39faf738395",
   "metadata": {},
   "source": [
    "###### **DATA 310**"
   ]
  },
  {
   "cell_type": "code",
   "execution_count": null,
   "id": "51c28c6d-16d5-405b-8638-b349893bc0d5",
   "metadata": {},
   "outputs": [],
   "source": [
    "def data310():\n",
    "    driver.get(data310_url)\n",
    "    total_tags = driver.find_elements(By.TAG_NAME, 'td')\n",
    "    class_name = 'DATA 310'\n",
    "\n",
    "    for i in range(len(total_tags)):\n",
    "        if total_tags[i].text == 'Total Seats Remaining:':\n",
    "            element = total_tags[i+1]\n",
    "            break\n",
    "    if int(element.text) != 0:\n",
    "        send_alert(f'{class_name}', f'{class_name} has a seat remaining!', '9256997372@mms.att.net') \n",
    "        "
   ]
  },
  {
   "cell_type": "markdown",
   "id": "0ed69d20-df92-47bd-a2d5-9707e246f93a",
   "metadata": {},
   "source": [
    "###### **DATA 311**"
   ]
  },
  {
   "cell_type": "code",
   "execution_count": null,
   "id": "5ddc5839-6179-41e2-ae0a-1a8ea3eba204",
   "metadata": {},
   "outputs": [],
   "source": [
    "def data311():\n",
    "    driver.get(data311_url)\n",
    "    total_tags = driver.find_elements(By.TAG_NAME, 'td')\n",
    "    class_name = 'DATA 311'\n",
    "\n",
    "    for i in range(len(total_tags)):\n",
    "        if total_tags[i].text == 'Total Seats Remaining:':\n",
    "            element = total_tags[i+1]\n",
    "            break\n",
    "    if int(element.text) != 0:\n",
    "        send_alert(f'{class_name}', f'{class_name} has a seat remaining!', '9256997372@mms.att.net')   \n",
    "        "
   ]
  },
  {
   "cell_type": "markdown",
   "id": "8c9b7c79-c41d-4161-aa49-ca0c32cf4abf",
   "metadata": {},
   "source": [
    "###### **DATA 315**"
   ]
  },
  {
   "cell_type": "code",
   "execution_count": null,
   "id": "82697ae9-ec8c-4e50-8ed3-cc43857c7e0d",
   "metadata": {},
   "outputs": [],
   "source": [
    "def data315():\n",
    "    driver.get(data315_url)\n",
    "    total_tags = driver.find_elements(By.TAG_NAME, 'td')\n",
    "    class_name = 'DATA 315'\n",
    "\n",
    "    for i in range(len(total_tags)):\n",
    "        if total_tags[i].text == 'Total Seats Remaining:':\n",
    "            element = total_tags[i+1]\n",
    "            break\n",
    "    if int(element.text) != 0:\n",
    "        send_alert(f'{class_name}', f'{class_name} has a seat remaining!', '9256997372@mms.att.net')   \n",
    "        "
   ]
  }
 ],
 "metadata": {
  "kernelspec": {
   "display_name": "Python 3 (ipykernel)",
   "language": "python",
   "name": "python3"
  }
 },
 "nbformat": 4,
 "nbformat_minor": 5
}
