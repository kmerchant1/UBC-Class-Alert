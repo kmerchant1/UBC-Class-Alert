{
 "cells": [
  {
   "cell_type": "markdown",
   "id": "750bb442-b0dc-481d-9815-bbb2f53ef1cc",
   "metadata": {},
   "source": [
    "#### **UBC Class Alert for COSC 322, 320 and DATA 310, 311, 315**"
   ]
  },
  {
   "cell_type": "code",
   "execution_count": null,
   "id": "782b2074-e9a0-41ba-b493-799244ae26c3",
   "metadata": {},
   "outputs": [],
   "source": [
    "%%capture\n",
    "# Install Dependencies: \n",
    "!pip install selenium\n",
    "!pip install ipynb"
   ]
  },
  {
   "cell_type": "code",
   "execution_count": null,
   "id": "07d4dc6d-f51d-4b50-82f3-fbd95d7cf550",
   "metadata": {},
   "outputs": [],
   "source": [
    "# Import dependencies\n",
    "from selenium import webdriver\n",
    "import time\n",
    "from ipynb.fs.full.check_availability import check_class"
   ]
  },
  {
   "cell_type": "markdown",
   "id": "9b3beb8e-acac-4211-81ae-cdbb41702a28",
   "metadata": {},
   "source": [
    "##### 1. **Get Chrome driver and navigate to SSC**"
   ]
  },
  {
   "cell_type": "code",
   "execution_count": null,
   "id": "74fd8a11-5791-4595-aa9c-4defd9e70718",
   "metadata": {},
   "outputs": [],
   "source": [
    "driver = webdriver.Chrome()\n",
    "\n",
    "url = 'https://courses.students.ubc.ca/cs/courseschedule?submit=Login&pname=timetable&tname=timetable&studentid=41529918'\n",
    "\n",
    "driver.get(url)\n"
   ]
  },
  {
   "cell_type": "markdown",
   "id": "78cc7382-c5b4-4221-98bf-b2a2b38386a0",
   "metadata": {},
   "source": [
    "##### **2. Now, manually login and now we can navigate to the different classes and check for availability**"
   ]
  },
  {
   "cell_type": "code",
   "execution_count": null,
   "id": "5326b144-623a-4aaf-a7d2-ca129517bfd8",
   "metadata": {},
   "outputs": [],
   "source": []
  }
 ],
 "metadata": {
  "kernelspec": {
   "display_name": "Python 3 (ipykernel)",
   "language": "python",
   "name": "python3"
  }
 },
 "nbformat": 4,
 "nbformat_minor": 5
}
