{
 "cells": [
  {
   "cell_type": "markdown",
   "id": "750bb442-b0dc-481d-9815-bbb2f53ef1cc",
   "metadata": {},
   "source": [
    "#### **UBC Class Alert for COSC 322, 320 and DATA 310, 311, 315**"
   ]
  },
  {
   "cell_type": "code",
   "execution_count": null,
   "id": "782b2074-e9a0-41ba-b493-799244ae26c3",
   "metadata": {},
   "outputs": [],
   "source": [
    "%%capture\n",
    "# Install Dependencies: \n",
    "!pip install selenium\n",
    "!pip install ipynb"
   ]
  },
  {
   "cell_type": "code",
   "execution_count": null,
   "id": "07d4dc6d-f51d-4b50-82f3-fbd95d7cf550",
   "metadata": {},
   "outputs": [],
   "source": [
    "# Import dependencies\n",
    "from selenium import webdriver\n",
    "import time\n",
    "from ipynb.fs.full.check_availability import check_class"
   ]
  },
  {
   "cell_type": "markdown",
   "id": "9b3beb8e-acac-4211-81ae-cdbb41702a28",
   "metadata": {},
   "source": [
    "##### 1. **Get Chrome driver and navigate to SSC**"
   ]
  },
  {
   "cell_type": "code",
   "execution_count": null,
   "id": "74fd8a11-5791-4595-aa9c-4defd9e70718",
   "metadata": {},
   "outputs": [],
   "source": [
    "driver = webdriver.Chrome()\n",
    "\n",
    "url = 'https://courses.students.ubc.ca/cs/courseschedule?submit=Login&pname=timetable&tname=timetable&studentid=41529918'\n",
    "\n",
    "driver.get(url)\n"
   ]
  },
  {
   "cell_type": "markdown",
   "id": "78cc7382-c5b4-4221-98bf-b2a2b38386a0",
   "metadata": {},
   "source": [
    "##### **2. Now, manually login and now we can navigate to the different classes and check for availability**"
   ]
  },
  {
   "cell_type": "code",
   "execution_count": null,
   "id": "5326b144-623a-4aaf-a7d2-ca129517bfd8",
   "metadata": {},
   "outputs": [
    {
     "ename": "KeyboardInterrupt",
     "evalue": "",
     "output_type": "error",
     "traceback": [
      "\u001b[0;31m---------------------------------------------------------------------------\u001b[0m",
      "\u001b[0;31mKeyboardInterrupt\u001b[0m                         Traceback (most recent call last)",
      "Cell \u001b[0;32mIn[5], line 4\u001b[0m\n\u001b[1;32m      1\u001b[0m \u001b[38;5;66;03m#After signing in, we can now check each classes availability every 15 minutes\u001b[39;00m\n\u001b[1;32m      3\u001b[0m \u001b[38;5;28;01mwhile\u001b[39;00m \u001b[38;5;28;01mTrue\u001b[39;00m:\n\u001b[0;32m----> 4\u001b[0m     \u001b[43mtime\u001b[49m\u001b[38;5;241;43m.\u001b[39;49m\u001b[43msleep\u001b[49m\u001b[43m(\u001b[49m\u001b[38;5;241;43m180\u001b[39;49m\u001b[43m)\u001b[49m\n\u001b[1;32m      5\u001b[0m     \u001b[38;5;66;03m#check_class('cosc 320', driver)\u001b[39;00m\n\u001b[1;32m      6\u001b[0m     \u001b[38;5;66;03m#check_class('cosc 322', driver)\u001b[39;00m\n\u001b[1;32m      7\u001b[0m     check_class(\u001b[38;5;124m'\u001b[39m\u001b[38;5;124mdata 310\u001b[39m\u001b[38;5;124m'\u001b[39m, driver)\n",
      "\u001b[0;31mKeyboardInterrupt\u001b[0m: "
     ]
    }
   ],
   "source": [
    "#After signing in, we can now check each classes availability every 15 minutes\n",
    "\n",
    "while True:\n",
    "    \n",
    "    check_class('cosc 320', driver)\n",
    "    check_class('cosc 322', driver)\n",
    "    check_class('data 310', driver)\n",
    "    check_class('data 311', driver)\n",
    "    check_class('data 315', driver)\n",
    "    time.sleep(900)\n",
    "    "
   ]
  },
  {
   "cell_type": "code",
   "execution_count": null,
   "id": "acc1e689-df63-4d98-a53f-a745fd03f552",
   "metadata": {},
   "outputs": [],
   "source": []
  }
 ],
 "metadata": {
  "kernelspec": {
   "display_name": "Python 3 (ipykernel)",
   "language": "python",
   "name": "python3"
  }
 },
 "nbformat": 4,
 "nbformat_minor": 5
}
