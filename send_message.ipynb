{
 "cells": [
  {
   "cell_type": "markdown",
   "id": "6fe8e934-7859-4845-a8d1-fd8cf90b7f3e",
   "metadata": {},
   "source": [
    "#### **Send Email/SMS Alert**"
   ]
  },
  {
   "cell_type": "code",
   "execution_count": null,
   "id": "6cbe2af4-6f03-420b-9886-d6a56c0412ff",
   "metadata": {},
   "outputs": [],
   "source": [
    "#install dependencies\n",
    "import smtplib\n",
    "from email.message import EmailMessage\n"
   ]
  },
  {
   "cell_type": "code",
   "execution_count": null,
   "id": "8ce4d52f-49b9-492c-9c2f-27ce64d89ac7",
   "metadata": {},
   "outputs": [],
   "source": [
    "#email alert function\n",
    "\n",
    "def send_alert(subject, body, to):\n",
    "    '''\n",
    "    Sends alert to recepient\n",
    "    If you want a text message, use PHONE_NUMBER@mms.att.\n",
    "    \n",
    "    \n",
    "    Args:\n",
    "        subject: str --> subject of the email\n",
    "        body: str --> body of the email\n",
    "        to: str --> the recepient email\n",
    "    \n",
    "    '''\n",
    "    \n",
    "    msg = EmailMessage()\n",
    "    msg.set_content(body)\n",
    "    msg['subject'] = subject\n",
    "    msg['to'] = to\n",
    "    \n",
    "    user = 'kaiden.merchant@gmail.com'\n",
    "    msg['from'] = user\n",
    "    password = 'ebxvilqqroqbcbpu'\n",
    "    \n",
    "    server = smtplib.SMTP('SMTP.gmail.com', 587)\n",
    "    server.starttls()\n",
    "    server.login(user, password)\n",
    "    server.send_message(msg)\n",
    "    \n",
    "    server.quit()\n"
   ]
  }
 ],
 "metadata": {
  "kernelspec": {
   "display_name": "Python 3 (ipykernel)",
   "language": "python",
   "name": "python3"
  }
 },
 "nbformat": 4,
 "nbformat_minor": 5
}
