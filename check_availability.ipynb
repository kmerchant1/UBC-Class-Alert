{
 "cells": [
  {
   "cell_type": "code",
   "execution_count": null,
   "id": "f3464ca0-f1ee-445b-802a-26e46c69974f",
   "metadata": {},
   "outputs": [],
   "source": [
    "#import dependencies\n",
    "from selenium.webdriver.common.by import By\n",
    "from ipynb.fs.full.send_message import send_alert"
   ]
  },
  {
   "cell_type": "code",
   "execution_count": null,
   "id": "9d533378-59ba-4f8c-a058-81f18fee2431",
   "metadata": {},
   "outputs": [],
   "source": [
    "# URL Links to the 5 classes  \n",
    "\n",
    "class_links = ['https://courses.students.ubc.ca/cs/courseschedule?pname=subjarea&tname=subj-section&dept=COSC&course=320&section=001',\n",
    "'https://courses.students.ubc.ca/cs/courseschedule?pname=subjarea&tname=subj-section&dept=COSC&course=322&section=101',\n",
    "'https://courses.students.ubc.ca/cs/courseschedule?pname=subjarea&tname=subj-section&dept=DATA&course=310&section=101',\n",
    "'https://courses.students.ubc.ca/cs/courseschedule?pname=subjarea&tname=subj-section&dept=DATA&course=311&section=101',\n",
    "'https://courses.students.ubc.ca/cs/courseschedule?pname=subjarea&tname=subj-section&dept=DATA&course=315&section=101']"
   ]
  },
  {
   "cell_type": "code",
   "execution_count": null,
   "id": "fd17ead8-eda2-4b02-96bf-90e0f72a3bcf",
   "metadata": {},
   "outputs": [],
   "source": [
    "\n",
    "def check_class(class_name, driver):\n",
    "    '''\n",
    "      Checks class availability\n",
    "      \n",
    "      Args:\n",
    "          class_name: str --> class name to check availability (ex: cosc 322)\n",
    "      Returns:\n",
    "          Sends a text message if the class has at least 1 open seat\n",
    "    '''\n",
    "    \n",
    "    course_category, course_number = class_name.split()\n",
    "    \n",
    "    class_url = ''\n",
    "    for link in class_links:\n",
    "        if course_category.upper() in link and course_number in link:\n",
    "            class_url = link\n",
    "    driver.get(class_url)\n",
    "    \n",
    "    total_tags = driver.find_elements(By.TAG_NAME, 'td')\n",
    "    ubc_class = class_name.upper()\n",
    "    \n",
    "    #find html element that contains total seats remaining for the class \n",
    "    for i in range(len(total_tags)):\n",
    "        if total_tags[i].text == 'Total Seats Remaining:':\n",
    "            element = total_tags[i+1]\n",
    "            break\n",
    "    if int(element.text) != 0:\n",
    "        send_alert(f'{ubc_class}', f'{ubc_class} has a seat remaining!', '9256997372@mms.att.net')"
   ]
  }
 ],
 "metadata": {
  "kernelspec": {
   "display_name": "Python 3 (ipykernel)",
   "language": "python",
   "name": "python3"
  }
 },
 "nbformat": 4,
 "nbformat_minor": 5
}
